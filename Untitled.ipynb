{
 "cells": [
  {
   "cell_type": "code",
   "execution_count": 1,
   "id": "441b8dca",
   "metadata": {},
   "outputs": [
    {
     "name": "stdout",
     "output_type": "stream",
     "text": [
      "\n",
      " PlayTennis Dataset:\n",
      "    PlayTennis   Outlook Temperature Humidity    Wind\n",
      "0          No     Sunny         Hot     High    Weak\n",
      "1          No     Sunny         Hot     High  Strong\n",
      "2         Yes  Overcast         Hot     High    Weak\n",
      "3         Yes      Rain        Mild     High    Weak\n",
      "4         Yes      Rain        Cool   Normal    Weak\n",
      "5          No      Rain        Cool   Normal  Strong\n",
      "6         Yes  Overcast        Cool   Normal  Strong\n",
      "7          No     Sunny        Mild     High    Weak\n",
      "8         Yes     Sunny        Cool   Normal    Weak\n",
      "9         Yes      Rain        Mild   Normal    Weak\n",
      "10        Yes     Sunny        Mild   Normal  Strong\n",
      "11        Yes  Overcast        Mild     High  Strong\n",
      "12        Yes  Overcast         Hot   Normal    Weak\n",
      "13         No      Rain        Mild     High  Strong\n"
     ]
    }
   ],
   "source": [
    "import pandas as pd\n",
    "df_tennis =pd.read_csv('playtennis.csv')\n",
    "print(\"\\n PlayTennis Dataset:\\n\",df_tennis)"
   ]
  },
  {
   "cell_type": "code",
   "execution_count": 2,
   "id": "6dd4dae6",
   "metadata": {},
   "outputs": [
    {
     "name": "stdout",
     "output_type": "stream",
     "text": [
      "list of attr: ['PlayTennis', 'Outlook', 'Temperature', 'Humidity', 'Wind']\n",
      "predicting attr: ['Outlook', 'Temperature', 'Humidity', 'Wind']\n"
     ]
    }
   ],
   "source": [
    "def id3(df, trgtattname,attname,default_class=None):\n",
    "    from collections import Counter\n",
    "    cnt=Counter(x for x in df[trgtattname])\n",
    "    print(cnt)\n",
    "    if len(cnt)==1:\n",
    "        print(len(cnt))\n",
    "        return next(iter(cnt))\n",
    "    elif df.empty or(not attname):\n",
    "        return default_class\n",
    "    else:\n",
    "        default_class=max(cnt.keys())\n",
    "        gainz=[information_gain(df,attr,trgtattname) for attr in attname]\n",
    "        print(\"gain=\",gainz)\n",
    "        indexofmax=gainz.index(max(gainz))\n",
    "        bestatt = attname[indexofmax]\n",
    "        print(\"best attr:\",bestatt)\n",
    "        tree={bestatt:{}}\n",
    "        remainattname=[i for i in attname if i!=bestatt]\n",
    "        for attval,datasubset in df.groupby(bestatt):\n",
    "            subtree=id3(datasubset,trgtattname,remainattname,default_class)\n",
    "            tree[bestatt][attval]=subtree\n",
    "        return tree\n",
    "    \n",
    "attname=list(df_tennis.columns)\n",
    "print(\"list of attr:\",attname)\n",
    "attname.remove('PlayTennis')\n",
    "print(\"predicting attr:\",attname)"
   ]
  },
  {
   "cell_type": "code",
   "execution_count": 3,
   "id": "0b7a1d56",
   "metadata": {},
   "outputs": [],
   "source": [
    "def entropy(probs):\n",
    "    import math\n",
    "    return sum([-prob*math.log(prob,2) for prob in probs])\n",
    "\n",
    "def entropyoflist(alist):\n",
    "    from collections import Counter\n",
    "    cnt=Counter(x for x in alist)\n",
    "    numinst=len(alist)*1.0\n",
    "    probs=[x/numinst for x in cnt.values()]\n",
    "    return entropy(probs)"
   ]
  },
  {
   "cell_type": "code",
   "execution_count": 4,
   "id": "62f70159",
   "metadata": {},
   "outputs": [],
   "source": [
    "def information_gain(df,splitattname,trgtattname,trace=0):\n",
    "    df_split=df.groupby(splitattname)\n",
    "    nobs=len(df.index)*1.0\n",
    "    dfaggent=df_split.agg({trgtattname: [entropyoflist,lambda x:len(x)/nobs]})[trgtattname]\n",
    "    dfaggent.columns=['Entropy','ProbObservations']\n",
    "    newentropy=sum(dfaggent['Entropy']*dfaggent['ProbObservations'])\n",
    "    oldentropy=entropyoflist(df[trgtattname])\n",
    "    return oldentropy - newentropy"
   ]
  },
  {
   "cell_type": "code",
   "execution_count": 5,
   "id": "33a744c5",
   "metadata": {},
   "outputs": [
    {
     "name": "stdout",
     "output_type": "stream",
     "text": [
      "Counter({'Yes': 9, 'No': 5})\n",
      "gain= [0.2467498197744391, 0.029222565658954647, 0.15183550136234136, 0.04812703040826927]\n",
      "best attr: Outlook\n",
      "Counter({'Yes': 4})\n",
      "1\n",
      "Counter({'Yes': 3, 'No': 2})\n",
      "gain= [0.01997309402197489, 0.01997309402197489, 0.9709505944546686]\n",
      "best attr: Wind\n",
      "Counter({'No': 2})\n",
      "1\n",
      "Counter({'Yes': 3})\n",
      "1\n",
      "Counter({'No': 3, 'Yes': 2})\n",
      "gain= [0.5709505944546686, 0.9709505944546686, 0.01997309402197489]\n",
      "best attr: Humidity\n",
      "Counter({'No': 3})\n",
      "1\n",
      "Counter({'Yes': 2})\n",
      "1\n",
      "\n",
      " resultant decision tree:\n",
      "{'Outlook': {'Overcast': 'Yes',\n",
      "             'Rain': {'Wind': {'Strong': 'No', 'Weak': 'Yes'}},\n",
      "             'Sunny': {'Humidity': {'High': 'No', 'Normal': 'Yes'}}}}\n"
     ]
    }
   ],
   "source": [
    "from pprint import pprint\n",
    "tree=id3(df_tennis,'PlayTennis',attname)\n",
    "print(\"\\n resultant decision tree:\")\n",
    "pprint(tree)"
   ]
  },
  {
   "cell_type": "code",
   "execution_count": 6,
   "id": "e0422803",
   "metadata": {},
   "outputs": [],
   "source": [
    "def classify(inst,tree,default=None):\n",
    "    attr=next(iter(tree))\n",
    "    \n",
    "    if inst[attr] in tree[attr].keys():\n",
    "        res=tree[attr][inst[attr]]\n",
    "        if isinstance(res,dict):\n",
    "            return classify(inst,res)\n",
    "        else:\n",
    "            return res\n",
    "    else:\n",
    "        return default"
   ]
  },
  {
   "cell_type": "code",
   "execution_count": 7,
   "id": "691b361f",
   "metadata": {},
   "outputs": [
    {
     "data": {
      "text/plain": [
       "0    Yes\n",
       "1     No\n",
       "dtype: object"
      ]
     },
     "execution_count": 7,
     "metadata": {},
     "output_type": "execute_result"
    }
   ],
   "source": [
    "#classify new sample\n",
    "\n",
    "tstdata=pd.read_csv('playtennis_test.csv')\n",
    "tstdata.apply(classify,axis=1,args=(tree,''))"
   ]
  },
  {
   "cell_type": "code",
   "execution_count": null,
   "id": "da3ff026",
   "metadata": {},
   "outputs": [],
   "source": []
  }
 ],
 "metadata": {
  "kernelspec": {
   "display_name": "Python 3 (ipykernel)",
   "language": "python",
   "name": "python3"
  },
  "language_info": {
   "codemirror_mode": {
    "name": "ipython",
    "version": 3
   },
   "file_extension": ".py",
   "mimetype": "text/x-python",
   "name": "python",
   "nbconvert_exporter": "python",
   "pygments_lexer": "ipython3",
   "version": "3.10.9"
  }
 },
 "nbformat": 4,
 "nbformat_minor": 5
}
